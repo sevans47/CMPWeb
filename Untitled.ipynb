{
 "cells": [
  {
   "cell_type": "code",
   "execution_count": 1,
   "id": "890b5bdb",
   "metadata": {},
   "outputs": [],
   "source": [
    "import pretty_midi\n",
    "import music21"
   ]
  },
  {
   "cell_type": "code",
   "execution_count": null,
   "id": "cb860d03",
   "metadata": {},
   "outputs": [],
   "source": [
    "from IPython import display"
   ]
  },
  {
   "cell_type": "code",
   "execution_count": null,
   "id": "6ce5d8c4",
   "metadata": {},
   "outputs": [],
   "source": [
    "bpm_dict = {1: 4, 2: 2, 4: 1, 8: 0.5, 16: 0.25}\n",
    "\n",
    "model_output_1 = [73, 16]\n",
    "model_output_2 = [74, 16]\n",
    "model_output_3 = [75, 8]\n",
    "model_output_4 = [0, 8]\n",
    "model_output_5 = [78, 4]\n",
    "bpm = 120"
   ]
  },
  {
   "cell_type": "code",
   "execution_count": null,
   "id": "d70a4946",
   "metadata": {},
   "outputs": [],
   "source": [
    "def notes_to_midi(model_output, bpm=120):\n",
    "    pm = pretty_midi.PrettyMIDI()\n",
    "    instrument = pretty_midi.Instrument(program=pretty_midi.instrument_name_to_program('Acoustic Guitar (nylon)'))\n",
    "    \n",
    "    prev_start = 0\n",
    "    seq_of_notes.append(model_output)\n",
    "    spb = 60/bpm\n",
    "    \n",
    "    for note in seq_of_notes:\n",
    "        duration = bpm_dict[note[1]] * spb\n",
    "        start = float(prev_start)\n",
    "        end = float(prev_start + duration)\n",
    "        if note[0] == 0:\n",
    "            start += float(duration)\n",
    "            prev_start = start\n",
    "        else:\n",
    "            note = pretty_midi.Note(velocity=100, pitch=note[0], start=start, end=end)\n",
    "            instrument.notes.append(note)\n",
    "            prev_start = end\n",
    "            \n",
    "    pm.instruments.append(instrument)\n",
    "    pm.write('example.mid')\n",
    "    return pm"
   ]
  },
  {
   "cell_type": "code",
   "execution_count": null,
   "id": "92b5d8c1",
   "metadata": {},
   "outputs": [],
   "source": [
    "seq_of_notes = []\n",
    "\n",
    "pm = notes_to_midi(model_output_2, bpm)"
   ]
  },
  {
   "cell_type": "code",
   "execution_count": null,
   "id": "47919d3c",
   "metadata": {},
   "outputs": [],
   "source": [
    "def display_audio(pm):\n",
    "  waveform = pm.fluidsynth(fs=16000)\n",
    "  # Take a sample of the generated waveform to mitigate kernel resets\n",
    "  return display.Audio(waveform, rate=16000)"
   ]
  },
  {
   "cell_type": "code",
   "execution_count": null,
   "id": "6d9ccf2b",
   "metadata": {},
   "outputs": [],
   "source": [
    "seq_of_notes = []\n",
    "seq_of_notes.append(model_output)"
   ]
  },
  {
   "cell_type": "code",
   "execution_count": null,
   "id": "070b9a30",
   "metadata": {},
   "outputs": [],
   "source": [
    "def notes_to_midi(seq_of_notes, bpm=120):\n",
    "    pm = pretty_midi.PrettyMIDI()\n",
    "    instrument = pretty_midi.Instrument(program=pretty_midi.instrument_name_to_program('Acoustic Guitar (nylon)'))\n",
    "    \n",
    "    prev_start = 0\n",
    "    spb = 60/bpm\n",
    "    \n",
    "    for note in seq_of_notes:\n",
    "        duration = bpm_dict[note[1]] * spb\n",
    "        start = float(prev_start)\n",
    "        end = float(prev_start + duration)\n",
    "        if note[0] == 0:\n",
    "            start += float(duration)\n",
    "            prev_start = start\n",
    "        else:\n",
    "            note = pretty_midi.Note(velocity=100, pitch=note[0], start=start, end=end)\n",
    "            instrument.notes.append(note)\n",
    "            prev_start = end\n",
    "            \n",
    "    pm.instruments.append(instrument)\n",
    "    pm.write('example.mid')\n",
    "    return pm"
   ]
  },
  {
   "cell_type": "code",
   "execution_count": null,
   "id": "ee4a94dd",
   "metadata": {},
   "outputs": [],
   "source": []
  },
  {
   "cell_type": "code",
   "execution_count": null,
   "id": "34f2a775",
   "metadata": {},
   "outputs": [],
   "source": [
    "display_audio(pm)"
   ]
  },
  {
   "cell_type": "code",
   "execution_count": null,
   "id": "34f80f6b",
   "metadata": {},
   "outputs": [],
   "source": []
  },
  {
   "cell_type": "code",
   "execution_count": 2,
   "id": "3687ee8f",
   "metadata": {},
   "outputs": [],
   "source": [
    "s = music21.converter.parse('tinyNotation: 4/4 C4_hi D-4_its E#4_working F8 trip{G4 A4 B4} c4_:)')"
   ]
  },
  {
   "cell_type": "code",
   "execution_count": 3,
   "id": "f6858b73",
   "metadata": {},
   "outputs": [
    {
     "data": {
      "image/png": "[encoded data removed]",
      "text/plain": [
       "<IPython.core.display.Image object>"
      ]
     },
     "metadata": {
      "image/png": {
       "height": 66,
       "width": 674
      }
     },
     "output_type": "display_data"
    }
   ],
   "source": [
    "s.show()"
   ]
  },
  {
   "cell_type": "code",
   "execution_count": null,
   "id": "8861c290",
   "metadata": {},
   "outputs": [],
   "source": []
  },
  {
   "cell_type": "code",
   "execution_count": 11,
   "id": "f20d82ea",
   "metadata": {},
   "outputs": [
    {
     "name": "stderr",
     "output_type": "stream",
     "text": [
      "Unable to revert mtime: /Library/Fonts\n",
      "Processing `sheet'\n",
      "Parsing...\n",
      "Interpreting music...\n",
      "Preprocessing graphical objects...\n",
      "Calculating line breaks... \n",
      "Drawing systems... \n",
      "Layout output to `sheet.eps'...\n",
      "Converting to PNG...\n",
      "Layout output to `sheet-1.eps'...\n",
      "Writing sheet-systems.texi...\n",
      "Writing sheet-systems.tex...\n",
      "Writing sheet-systems.count...\n",
      "Success: compilation successfully completed\n"
     ]
    }
   ],
   "source": [
    "path=''\n",
    "name='sheet'\n",
    "s.show(fmt='lily.png',fp=path+name)"
   ]
  },
  {
   "cell_type": "code",
   "execution_count": 4,
   "id": "5caf94e5",
   "metadata": {},
   "outputs": [],
   "source": [
    "us = music21.environment.UserSettings()"
   ]
  },
  {
   "cell_type": "code",
   "execution_count": 10,
   "id": "67616e2a",
   "metadata": {},
   "outputs": [
    {
     "data": {
      "text/plain": [
       "PosixPath('/Applications/Lilypond.app/Contents/Resources/bin/lilypond')"
      ]
     },
     "execution_count": 10,
     "metadata": {},
     "output_type": "execute_result"
    }
   ],
   "source": [
    "us['lilypondPath']"
   ]
  },
  {
   "cell_type": "code",
   "execution_count": null,
   "id": "ef679230",
   "metadata": {},
   "outputs": [],
   "source": [
    "st.image('sheet.png')"
   ]
  },
  {
   "cell_type": "code",
   "execution_count": 4,
   "id": "8a627b62",
   "metadata": {},
   "outputs": [],
   "source": [
    "us = music21.environment.UserSettings()"
   ]
  },
  {
   "cell_type": "code",
   "execution_count": 5,
   "id": "fbab828d",
   "metadata": {},
   "outputs": [
    {
     "data": {
      "text/plain": [
       "(PosixPath('/Applications/MuseScore 3.app/Contents/MacOS/mscore'),\n",
       " PosixPath('/Applications/MuseScore 3.app/Contents/MacOS/mscore'))"
      ]
     },
     "execution_count": 5,
     "metadata": {},
     "output_type": "execute_result"
    }
   ],
   "source": [
    "us['musescoreDirectPNGPath'],us['musicxmlPath']"
   ]
  },
  {
   "cell_type": "code",
   "execution_count": 15,
   "id": "d67b6268",
   "metadata": {},
   "outputs": [
    {
     "ename": "TypeError",
     "evalue": "restoreDefaults() missing 1 required positional argument: 'self'",
     "output_type": "error",
     "traceback": [
      "\u001b[0;31m---------------------------------------------------------------------------\u001b[0m",
      "\u001b[0;31mTypeError\u001b[0m                                 Traceback (most recent call last)",
      "Input \u001b[0;32mIn [15]\u001b[0m, in \u001b[0;36m<cell line: 1>\u001b[0;34m()\u001b[0m\n\u001b[0;32m----> 1\u001b[0m \u001b[43mmusic21\u001b[49m\u001b[38;5;241;43m.\u001b[39;49m\u001b[43menvironment\u001b[49m\u001b[38;5;241;43m.\u001b[39;49m\u001b[43mUserSettings\u001b[49m\u001b[38;5;241;43m.\u001b[39;49m\u001b[43mrestoreDefaults\u001b[49m\u001b[43m(\u001b[49m\u001b[43m)\u001b[49m\n",
      "\u001b[0;31mTypeError\u001b[0m: restoreDefaults() missing 1 required positional argument: 'self'"
     ]
    }
   ],
   "source": [
    "music21.environment.UserSettings.restoreDefaults()"
   ]
  },
  {
   "cell_type": "code",
   "execution_count": 9,
   "id": "8892127a",
   "metadata": {},
   "outputs": [],
   "source": [
    "us.restoreDefaults()"
   ]
  },
  {
   "cell_type": "code",
   "execution_count": null,
   "id": "87bafa00",
   "metadata": {},
   "outputs": [],
   "source": []
  }
 ],
 "metadata": {
  "kernelspec": {
   "display_name": "Python 3 (ipykernel)",
   "language": "python",
   "name": "python3"
  },
  "language_info": {
   "codemirror_mode": {
    "name": "ipython",
    "version": 3
   },
   "file_extension": ".py",
   "mimetype": "text/x-python",
   "name": "python",
   "nbconvert_exporter": "python",
   "pygments_lexer": "ipython3",
   "version": "3.8.12"
  },
  "toc": {
   "base_numbering": 1,
   "nav_menu": {},
   "number_sections": true,
   "sideBar": true,
   "skip_h1_title": false,
   "title_cell": "Table of Contents",
   "title_sidebar": "Contents",
   "toc_cell": false,
   "toc_position": {},
   "toc_section_display": true,
   "toc_window_display": false
  }
 },
 "nbformat": 4,
 "nbformat_minor": 5
}
