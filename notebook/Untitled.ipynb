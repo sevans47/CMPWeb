{
 "cells": [
  {
   "cell_type": "code",
   "execution_count": 2,
   "id": "212785f0",
   "metadata": {},
   "outputs": [],
   "source": [
    "from music21 import converter, environment"
   ]
  },
  {
   "cell_type": "code",
   "execution_count": 5,
   "id": "0fc4a1d2",
   "metadata": {},
   "outputs": [
    {
     "data": {
      "text/plain": [
       "PosixPath('/Applications/MuseScore 3.app/Contents/MacOS/mscore')"
      ]
     },
     "execution_count": 5,
     "metadata": {},
     "output_type": "execute_result"
    }
   ],
   "source": [
    "us = environment.UserSettings()\n",
    "us['musicxmlPath']"
   ]
  },
  {
   "cell_type": "code",
   "execution_count": 6,
   "id": "19f8f572",
   "metadata": {},
   "outputs": [
    {
     "data": {
      "text/plain": [
       "PosixPath('/Applications/MuseScore 3.app/Contents/MacOS/mscore')"
      ]
     },
     "execution_count": 6,
     "metadata": {},
     "output_type": "execute_result"
    }
   ],
   "source": [
    "us['musescoreDirectPNGPath']"
   ]
  },
  {
   "cell_type": "code",
   "execution_count": 11,
   "id": "d4db1d61",
   "metadata": {},
   "outputs": [
    {
     "data": {
      "text/plain": [
       "PosixPath('/Users/mizukinakano/.music21rc')"
      ]
     },
     "execution_count": 11,
     "metadata": {},
     "output_type": "execute_result"
    }
   ],
   "source": [
    "us.getSettingsPath()"
   ]
  },
  {
   "cell_type": "code",
   "execution_count": 12,
   "id": "fa1f71ad",
   "metadata": {},
   "outputs": [
    {
     "data": {
      "text/plain": [
       "{'_environment': <Environment>}"
      ]
     },
     "execution_count": 12,
     "metadata": {},
     "output_type": "execute_result"
    }
   ],
   "source": [
    "us.__dict__"
   ]
  },
  {
   "cell_type": "code",
   "execution_count": 13,
   "id": "53b7b4b6",
   "metadata": {},
   "outputs": [
    {
     "data": {
      "text/plain": [
       "PosixPath('/Applications/MuseScore 3.app/Contents/MacOS/mscore')"
      ]
     },
     "execution_count": 13,
     "metadata": {},
     "output_type": "execute_result"
    }
   ],
   "source": [
    "us['musescoreDirectPNGPath']"
   ]
  },
  {
   "cell_type": "code",
   "execution_count": 14,
   "id": "63eb4f50",
   "metadata": {},
   "outputs": [
    {
     "data": {
      "text/plain": [
       "PosixPath('/Applications/Utilities/QuickTime Player 7.app')"
      ]
     },
     "execution_count": 14,
     "metadata": {},
     "output_type": "execute_result"
    }
   ],
   "source": [
    "us['midiPath']"
   ]
  },
  {
   "cell_type": "code",
   "execution_count": 16,
   "id": "2eac44c5",
   "metadata": {},
   "outputs": [
    {
     "data": {
      "text/html": [
       "\n",
       "                <div id='midiPlayerDiv337'></div>\n",
       "                <link rel=\"stylesheet\" href=\"//cuthbertLab.github.io/music21j/css/m21.css\"\n",
       "                    type=\"text/css\" />\n",
       "                <script>\n",
       "                require.config({\n",
       "                    paths: {'music21': '//cuthbertLab.github.io/music21j/src/music21'}\n",
       "                });\n",
       "                require(['music21'], function() {\n",
       "                               mp = new music21.miditools.MidiPlayer();\n",
       "                               mp.addPlayer('#midiPlayerDiv337');\n",
       "                               mp.base64Load('data:audio/midi;base64,TVRoZAAAAAYAAQACBABNVHJrAAAAFAD/UQMHoSAA/1gEBAIYCIgA/y8ATVRyawAAAFYA/wMAAOAAQIgAkDBaiACAMAAAkDFaiACAMQAAkDVaiACANQAAkDVahACANQAAkDdahSuANwAAkDlahSqQO1oBgDkAhSqAOwAAkDxaiACAPACIAP8vAA==');\n",
       "                        });\n",
       "                </script>"
      ],
      "text/plain": [
       "<IPython.core.display.HTML object>"
      ]
     },
     "metadata": {},
     "output_type": "display_data"
    }
   ],
   "source": [
    "s = converter.parse('tinyNotation: 4/4 C4_hi D-4 E#4 F8 trip{G4 A4 B4} c4')\n",
    "s.show('midi')"
   ]
  },
  {
   "cell_type": "code",
   "execution_count": null,
   "id": "9cba3a4b",
   "metadata": {},
   "outputs": [],
   "source": []
  }
 ],
 "metadata": {
  "kernelspec": {
   "display_name": "Python 3 (ipykernel)",
   "language": "python",
   "name": "python3"
  },
  "language_info": {
   "codemirror_mode": {
    "name": "ipython",
    "version": 3
   },
   "file_extension": ".py",
   "mimetype": "text/x-python",
   "name": "python",
   "nbconvert_exporter": "python",
   "pygments_lexer": "ipython3",
   "version": "3.8.12"
  },
  "toc": {
   "base_numbering": 1,
   "nav_menu": {},
   "number_sections": true,
   "sideBar": true,
   "skip_h1_title": false,
   "title_cell": "Table of Contents",
   "title_sidebar": "Contents",
   "toc_cell": false,
   "toc_position": {},
   "toc_section_display": true,
   "toc_window_display": false
  }
 },
 "nbformat": 4,
 "nbformat_minor": 5
}
